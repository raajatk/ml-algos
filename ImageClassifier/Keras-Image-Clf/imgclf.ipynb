{
 "cells": [
  {
   "cell_type": "code",
   "execution_count": 1,
   "metadata": {},
   "outputs": [
    {
     "name": "stderr",
     "output_type": "stream",
     "text": [
      "Using TensorFlow backend.\n"
     ]
    }
   ],
   "source": [
    "import numpy as np\n",
    "import matplotlib\n",
    "matplotlib.use('agg')\n",
    "import matplotlib.pyplot as plt\n",
    "\n",
    "import os\n",
    "os.environ['TF_CPP_MIN_LOG_LEVEL']='3'\n",
    "\n",
    "from keras.datasets import mnist\n",
    "from keras.models import Sequential, load_model\n",
    "from keras.layers.core import Dense, Dropout, Activation\n",
    "from keras.utils import np_utils"
   ]
  },
  {
   "cell_type": "code",
   "execution_count": 2,
   "metadata": {},
   "outputs": [],
   "source": [
    "(X_train, y_train), (X_test, y_test) = mnist.load_data()"
   ]
  },
  {
   "cell_type": "code",
   "execution_count": 3,
   "metadata": {},
   "outputs": [
    {
     "name": "stdout",
     "output_type": "stream",
     "text": [
      "X_train shape (60000, 28, 28)\n",
      "y_train shape (60000,)\n",
      "X_test shape (10000, 28, 28)\n",
      "y_test shape (10000,)\n",
      "Train matrix shape (60000, 784)\n",
      "Test matrix shape (10000, 784)\n"
     ]
    }
   ],
   "source": [
    "# let's print the shape before we reshape and normalize\n",
    "print(\"X_train shape\", X_train.shape)\n",
    "print(\"y_train shape\", y_train.shape)\n",
    "print(\"X_test shape\", X_test.shape)\n",
    "print(\"y_test shape\", y_test.shape)\n",
    "\n",
    "# building the input vector from the 28x28 pixels\n",
    "X_train = X_train.reshape(60000, 784)\n",
    "X_test = X_test.reshape(10000, 784)\n",
    "X_train = X_train.astype('float32')\n",
    "X_test = X_test.astype('float32')\n",
    "\n",
    "# normalizing the data to help with the training\n",
    "X_train /= 255\n",
    "X_test /= 255\n",
    "\n",
    "# print the final input shape ready for training\n",
    "print(\"Train matrix shape\", X_train.shape)\n",
    "print(\"Test matrix shape\", X_test.shape)"
   ]
  },
  {
   "cell_type": "code",
   "execution_count": 4,
   "metadata": {},
   "outputs": [
    {
     "name": "stdout",
     "output_type": "stream",
     "text": [
      "(array([0, 1, 2, 3, 4, 5, 6, 7, 8, 9], dtype=uint8), array([5923, 6742, 5958, 6131, 5842, 5421, 5918, 6265, 5851, 5949],\n",
      "      dtype=int64))\n"
     ]
    }
   ],
   "source": [
    "print(np.unique(y_train, return_counts=True))"
   ]
  },
  {
   "cell_type": "code",
   "execution_count": 5,
   "metadata": {},
   "outputs": [
    {
     "name": "stdout",
     "output_type": "stream",
     "text": [
      "Shape before one-hot encoding:  (60000,)\n",
      "Shape after one-hot encoding:  (60000, 10)\n"
     ]
    }
   ],
   "source": [
    "# one-hot encoding using keras' numpy-related utilities\n",
    "n_classes = 10\n",
    "print(\"Shape before one-hot encoding: \", y_train.shape)\n",
    "Y_train = np_utils.to_categorical(y_train, n_classes)\n",
    "Y_test = np_utils.to_categorical(y_test, n_classes)\n",
    "print(\"Shape after one-hot encoding: \", Y_train.shape)"
   ]
  },
  {
   "cell_type": "code",
   "execution_count": 6,
   "metadata": {},
   "outputs": [
    {
     "name": "stdout",
     "output_type": "stream",
     "text": [
      "WARNING:tensorflow:From C:\\Users\\Rajat\\Anaconda3\\lib\\site-packages\\tensorflow\\python\\framework\\op_def_library.py:263: colocate_with (from tensorflow.python.framework.ops) is deprecated and will be removed in a future version.\n",
      "Instructions for updating:\n",
      "Colocations handled automatically by placer.\n",
      "WARNING:tensorflow:From C:\\Users\\Rajat\\Anaconda3\\lib\\site-packages\\keras\\backend\\tensorflow_backend.py:3445: calling dropout (from tensorflow.python.ops.nn_ops) with keep_prob is deprecated and will be removed in a future version.\n",
      "Instructions for updating:\n",
      "Please use `rate` instead of `keep_prob`. Rate should be set to `rate = 1 - keep_prob`.\n"
     ]
    }
   ],
   "source": [
    "# building a linear stack of layers with the sequential model\n",
    "model = Sequential()\n",
    "model.add(Dense(512, input_shape=(784,)))\n",
    "model.add(Activation('relu'))                            \n",
    "model.add(Dropout(0.2))\n",
    "\n",
    "model.add(Dense(512))\n",
    "model.add(Activation('relu'))\n",
    "model.add(Dropout(0.2))\n",
    "\n",
    "model.add(Dense(10))\n",
    "model.add(Activation('softmax'))"
   ]
  },
  {
   "cell_type": "code",
   "execution_count": 7,
   "metadata": {},
   "outputs": [],
   "source": [
    "# compiling the sequential model\n",
    "model.compile(loss='categorical_crossentropy', metrics=['accuracy'], optimizer='adam')"
   ]
  },
  {
   "cell_type": "code",
   "execution_count": 8,
   "metadata": {},
   "outputs": [
    {
     "name": "stdout",
     "output_type": "stream",
     "text": [
      "WARNING:tensorflow:From C:\\Users\\Rajat\\Anaconda3\\lib\\site-packages\\tensorflow\\python\\ops\\math_ops.py:3066: to_int32 (from tensorflow.python.ops.math_ops) is deprecated and will be removed in a future version.\n",
      "Instructions for updating:\n",
      "Use tf.cast instead.\n",
      "Train on 60000 samples, validate on 10000 samples\n",
      "Epoch 1/20\n",
      " - 13s - loss: 0.2493 - acc: 0.9254 - val_loss: 0.1049 - val_acc: 0.9677\n",
      "Epoch 2/20\n",
      " - 13s - loss: 0.1023 - acc: 0.9680 - val_loss: 0.0789 - val_acc: 0.9740\n",
      "Epoch 3/20\n",
      " - 13s - loss: 0.0715 - acc: 0.9773 - val_loss: 0.0705 - val_acc: 0.9780\n",
      "Epoch 4/20\n",
      " - 14s - loss: 0.0554 - acc: 0.9819 - val_loss: 0.0707 - val_acc: 0.9778\n",
      "Epoch 5/20\n",
      " - 13s - loss: 0.0461 - acc: 0.9853 - val_loss: 0.0623 - val_acc: 0.9810\n",
      "Epoch 6/20\n",
      " - 13s - loss: 0.0375 - acc: 0.9878 - val_loss: 0.0646 - val_acc: 0.9803\n",
      "Epoch 7/20\n",
      " - 13s - loss: 0.0337 - acc: 0.9888 - val_loss: 0.0663 - val_acc: 0.9812\n",
      "Epoch 8/20\n",
      " - 13s - loss: 0.0303 - acc: 0.9900 - val_loss: 0.0642 - val_acc: 0.9820\n",
      "Epoch 9/20\n",
      " - 13s - loss: 0.0270 - acc: 0.9910 - val_loss: 0.0756 - val_acc: 0.9801\n",
      "Epoch 10/20\n",
      " - 13s - loss: 0.0242 - acc: 0.9916 - val_loss: 0.0848 - val_acc: 0.9806\n",
      "Epoch 11/20\n",
      " - 13s - loss: 0.0240 - acc: 0.9922 - val_loss: 0.0708 - val_acc: 0.9831\n",
      "Epoch 12/20\n",
      " - 13s - loss: 0.0233 - acc: 0.9922 - val_loss: 0.0729 - val_acc: 0.9823\n",
      "Epoch 13/20\n",
      " - 13s - loss: 0.0212 - acc: 0.9932 - val_loss: 0.0690 - val_acc: 0.9846\n",
      "Epoch 14/20\n",
      " - 13s - loss: 0.0202 - acc: 0.9931 - val_loss: 0.0749 - val_acc: 0.9841\n",
      "Epoch 15/20\n",
      " - 13s - loss: 0.0196 - acc: 0.9937 - val_loss: 0.0726 - val_acc: 0.9820\n",
      "Epoch 16/20\n",
      " - 13s - loss: 0.0171 - acc: 0.9946 - val_loss: 0.0738 - val_acc: 0.9839\n",
      "Epoch 17/20\n",
      " - 13s - loss: 0.0190 - acc: 0.9939 - val_loss: 0.0698 - val_acc: 0.9837\n",
      "Epoch 18/20\n",
      " - 13s - loss: 0.0144 - acc: 0.9953 - val_loss: 0.0808 - val_acc: 0.9838\n",
      "Epoch 19/20\n",
      " - 12s - loss: 0.0172 - acc: 0.9945 - val_loss: 0.0936 - val_acc: 0.9829\n",
      "Epoch 20/20\n",
      " - 13s - loss: 0.0161 - acc: 0.9951 - val_loss: 0.0864 - val_acc: 0.9819\n",
      "Saved trained model\n"
     ]
    }
   ],
   "source": [
    "# training the model and saving metrics in history\n",
    "history = model.fit(X_train, Y_train,\n",
    "          batch_size=128, epochs=20,\n",
    "          verbose=2,\n",
    "          validation_data=(X_test, Y_test))\n",
    "\n",
    "model_name = 'keras_mnist.h5'\n",
    "model.save(model_name)\n",
    "print('Saved trained model')"
   ]
  },
  {
   "cell_type": "code",
   "execution_count": 9,
   "metadata": {},
   "outputs": [
    {
     "name": "stdout",
     "output_type": "stream",
     "text": [
      "Test Loss 0.08636923302342991\n",
      "Test Accuracy 0.9819\n"
     ]
    }
   ],
   "source": [
    "# mnist_model = load_model($$ref{{[\"~:output\",\"03ba7143-0469-4ab8-8850-a2a8fa3cb299\",\"keras_mnist.h5\"]}})\n",
    "loss_and_metrics = model.evaluate(X_test, Y_test, verbose=2)\n",
    "\n",
    "print(\"Test Loss\", loss_and_metrics[0])\n",
    "print(\"Test Accuracy\", loss_and_metrics[1])"
   ]
  },
  {
   "cell_type": "code",
   "execution_count": null,
   "metadata": {},
   "outputs": [],
   "source": []
  }
 ],
 "metadata": {
  "kernelspec": {
   "display_name": "Python 3",
   "language": "python",
   "name": "python3"
  },
  "language_info": {
   "codemirror_mode": {
    "name": "ipython",
    "version": 3
   },
   "file_extension": ".py",
   "mimetype": "text/x-python",
   "name": "python",
   "nbconvert_exporter": "python",
   "pygments_lexer": "ipython3",
   "version": "3.7.1"
  }
 },
 "nbformat": 4,
 "nbformat_minor": 2
}
